{
  "metadata": {
    "kernelspec": {
      "name": "python",
      "display_name": "Python (Pyodide)",
      "language": "python"
    },
    "language_info": {
      "codemirror_mode": {
        "name": "python",
        "version": 3
      },
      "file_extension": ".py",
      "mimetype": "text/x-python",
      "name": "python",
      "nbconvert_exporter": "python",
      "pygments_lexer": "ipython3",
      "version": "3.8"
    }
  },
  "nbformat_minor": 5,
  "nbformat": 4,
  "cells": [
    {
      "id": "00e89f42-7435-4ed2-8818-248e7d2f73cc",
      "cell_type": "markdown",
      "source": "# Data Science Tools and Econsystem",
      "metadata": {}
    },
    {
      "id": "b7525557-3d08-44f5-ac27-3cb61a966739",
      "cell_type": "markdown",
      "source": "## Author\nSusan Reilly",
      "metadata": {}
    },
    {
      "id": "243c1b49-ab9c-468f-9bc5-50c30ffe979f",
      "cell_type": "markdown",
      "source": "#### In this notebook, Data Science Tools and Ecosystems are summarized. It represents my final project in the 6th module of course on Tools for Data Science, which is the second course in the IBM Data Science certificate",
      "metadata": {}
    },
    {
      "id": "b0606cf3-ebc5-4df7-b4cb-ae8c0d4e63de",
      "cell_type": "markdown",
      "source": "**Objectives**\n1. Create a Jupyter Notebook\n2. Insert code and markdown cells\n3. Share your notebook through GitHub",
      "metadata": {}
    },
    {
      "id": "d257d028-9be2-4159-b691-f96b205676bb",
      "cell_type": "markdown",
      "source": "Some of the popular languages that Data Scientists use are: \n1. Python\n2. Java\n3. R\n4. C++",
      "metadata": {}
    },
    {
      "id": "55ab06c6-e56c-4fc4-a2c6-c520c2a8c68d",
      "cell_type": "markdown",
      "source": "Some of the libraries commonly used by Data Scientists include:\n1. NumPy\n2. Pandas\n3. Matplotlip",
      "metadata": {
        "jupyter": {
          "source_hidden": true
        }
      }
    },
    {
      "id": "b9dc019d-19cc-453b-9419-90a859a18532",
      "cell_type": "markdown",
      "source": "|Data Science Tools|\n|--------|\n|Jupyter|\n|Apache Zeppelin|\n|R Studio|",
      "metadata": {}
    },
    {
      "id": "a5dac130-84e8-49f1-bcd0-4ee164e857de",
      "cell_type": "markdown",
      "source": "### Below are a few examples of evaluating arithmetic expressions in Python",
      "metadata": {}
    },
    {
      "id": "7a869a04-3900-47ef-b183-ec369de0c23f",
      "cell_type": "code",
      "source": "# This is a simple arithmetic expression to multiply and then add integers\n(3*4)+5",
      "metadata": {
        "trusted": true
      },
      "outputs": [
        {
          "execution_count": 5,
          "output_type": "execute_result",
          "data": {
            "text/plain": "17"
          },
          "metadata": {}
        }
      ],
      "execution_count": 5
    },
    {
      "id": "5e72518b-256c-4f78-9b82-9a605bd7d92a",
      "cell_type": "code",
      "source": "# This will converst 200 minutes into hours by diving by 60\n200/60",
      "metadata": {
        "trusted": true
      },
      "outputs": [
        {
          "execution_count": 6,
          "output_type": "execute_result",
          "data": {
            "text/plain": "3.3333333333333335"
          },
          "metadata": {}
        }
      ],
      "execution_count": 6
    },
    {
      "id": "33d4e2ea-6668-4765-bf1d-2c0190a80a5a",
      "cell_type": "code",
      "source": "",
      "metadata": {
        "trusted": true
      },
      "outputs": [],
      "execution_count": null
    }
  ]
}